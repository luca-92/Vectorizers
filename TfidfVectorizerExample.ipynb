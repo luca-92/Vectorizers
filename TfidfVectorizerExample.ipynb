{
 "cells": [
  {
   "cell_type": "markdown",
   "metadata": {},
   "source": [
    "# TfidfVectorizer\n",
    "In a large text corpus, some words will be very present (e.g. “the”, “a”, “is” in English) hence carrying very little meaningful information about the actual contents of the document. If we were to feed the direct count data directly to a classifier those very frequent terms would shadow the frequencies of rarer yet more interesting terms.\n",
    "In order to re-weight the count features into floating point values suitable for usage by a classifier it is very common to use the tf–idf transform.\n",
    "Tf means term-frequency while tf–idf means term-frequency times inverse document-frequency:\n",
    "<img src=\"images/tfidf-general-formula.png\" style=\"width:450px;height:300px;\">\n",
    "where <i>idf(t)</i>:\n",
    "<img src=\"images/idf-default.png\" style=\"width:450px;height:300px;\">\n",
    "when <i>smooth_idf=True</i>.\n",
    "If <i>False</i> \n",
    "<img src=\"images/tfidf-False.png\" style=\"width:450px;height:300px;\"> \n",
    "At the end, everything is normalized by the Euclidian norm:\n",
    "<img src=\"images/euclidian-norm.png\" style=\"width:450px;height:300px;\">\n",
    "## First Example\n",
    "Let see the <b>fit</b> function:"
   ]
  },
  {
   "cell_type": "code",
   "execution_count": 14,
   "metadata": {
    "collapsed": true
   },
   "outputs": [
    {
     "name": "stdout",
     "output_type": "stream",
     "text": [
      "{u'on': 5, u'green': 3, u'garden': 2, u'is': 4, u'fox': 1, u'the': 6, u'cat': 0}\n[1.40546511 1.40546511 1.40546511 1.40546511 1.         1.40546511\n 1.        ]\n"
     ]
    }
   ],
   "source": [
    "from sklearn.feature_extraction.text import TfidfVectorizer\n",
    "\n",
    "text = [\"The fox is on the garden\",\n",
    "        \"the cat is green\"]\n",
    "vectorizer = TfidfVectorizer()\n",
    "vectorizer.fit(text)\n",
    "print(vectorizer.vocabulary_)\n",
    "print(vectorizer.idf_)"
   ]
  },
  {
   "cell_type": "markdown",
   "metadata": {},
   "source": [
    "The second vector represent the idf of the word"
   ]
  },
  {
   "cell_type": "code",
   "execution_count": 15,
   "metadata": {},
   "outputs": [
    {
     "data": {
      "text/plain": [
       "array([[0.        , 0.42519636, 0.42519636, 0.        , 0.30253071,\n        0.42519636, 0.60506143],\n       [0.57615236, 0.        , 0.        , 0.57615236, 0.40993715,\n        0.        , 0.40993715]])"
      ]
     },
     "execution_count": 15,
     "metadata": {},
     "output_type": "execute_result"
    }
   ],
   "source": [
    "vector = vectorizer.transform(text)\n",
    "vector.toarray()"
   ]
  },
  {
   "cell_type": "code",
   "execution_count": null,
   "metadata": {},
   "outputs": [],
   "source": []
  }
 ],
 "metadata": {
  "kernelspec": {
   "display_name": "Python 2",
   "language": "python",
   "name": "python2"
  },
  "language_info": {
   "codemirror_mode": {
    "name": "ipython",
    "version": 2
   },
   "file_extension": ".py",
   "mimetype": "text/x-python",
   "name": "python",
   "nbconvert_exporter": "python",
   "pygments_lexer": "ipython2",
   "version": "2.7.6"
  }
 },
 "nbformat": 4,
 "nbformat_minor": 0
}
