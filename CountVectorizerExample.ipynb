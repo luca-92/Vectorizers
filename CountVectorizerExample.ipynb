{
 "cells": [
  {
   "cell_type": "markdown",
   "metadata": {
    "collapsed": true
   },
   "source": [
    "# CountVectorizer\n",
    "\n",
    "The CountVectorizer provides a simple way to both tokenize a collection of text documents and build a vocabulary of known words, but also to encode new documents using that vocabulary.\n",
    "Every vectorizer is basically constituted by two important methods\n",
    "<ol>\n",
    "<li><b>Fit: </b>function in order to learn a vocabulary from one or more documents</li>\n",
    "<li><b>Transform: </b>function on one or more documents as needed to encode each as a vector.</li>\n",
    "</ol>\n",
    "## First Example\n",
    "Let me start from a simple CountVectorizer"
   ]
  },
  {
   "cell_type": "code",
   "execution_count": 39,
   "metadata": {},
   "outputs": [
    {
     "ename": "AttributeError",
     "evalue": "'CountVectorizer' object has no attribute 'idf_'",
     "traceback": [
      "\u001b[0;31m---------------------------------------------------------------------------\u001b[0m",
      "\u001b[0;31mAttributeError\u001b[0m                            Traceback (most recent call last)",
      "\u001b[0;32m<ipython-input-39-e44cc7abd01f>\u001b[0m in \u001b[0;36m<module>\u001b[0;34m()\u001b[0m\n\u001b[1;32m      5\u001b[0m \u001b[0mvectorizer\u001b[0m\u001b[0;34m.\u001b[0m\u001b[0mfit\u001b[0m\u001b[0;34m(\u001b[0m\u001b[0mtext\u001b[0m\u001b[0;34m)\u001b[0m\u001b[0;34m\u001b[0m\u001b[0m\n\u001b[1;32m      6\u001b[0m \u001b[0mvectorizer\u001b[0m\u001b[0;34m.\u001b[0m\u001b[0mvocabulary_\u001b[0m\u001b[0;34m\u001b[0m\u001b[0m\n\u001b[0;32m----> 7\u001b[0;31m \u001b[0;32mprint\u001b[0m\u001b[0;34m(\u001b[0m\u001b[0mvectorizer\u001b[0m\u001b[0;34m.\u001b[0m\u001b[0midf_\u001b[0m\u001b[0;34m)\u001b[0m\u001b[0;34m\u001b[0m\u001b[0m\n\u001b[0m",
      "\u001b[0;31mAttributeError\u001b[0m: 'CountVectorizer' object has no attribute 'idf_'"
     ],
     "output_type": "error"
    }
   ],
   "source": [
    "from sklearn.feature_extraction.text import CountVectorizer\n",
    "\n",
    "text = [\"the cat is on the table and plays with a ball\"]\n",
    "vectorizer = CountVectorizer()\n",
    "vectorizer.fit(text)\n",
    "vectorizer.vocabulary_"
   ]
  },
  {
   "cell_type": "markdown",
   "metadata": {},
   "source": [
    "The result of the <b>fit</b> function is to represent the vocabulary given in input.\n",
    "Let see the <b>Transform</b> function."
   ]
  },
  {
   "cell_type": "code",
   "execution_count": 7,
   "metadata": {},
   "outputs": [
    {
     "name": "stdout",
     "output_type": "stream",
     "text": [
      "[[1 1 1 1 1 1 1 2 1]]\n"
     ]
    }
   ],
   "source": [
    "vector = vectorizer.transform(text)\n",
    "print(vector.toarray())"
   ]
  },
  {
   "cell_type": "markdown",
   "metadata": {},
   "source": [
    "Every i-th of the matrix, correspond the number of such word in the document. Indeed every word appears once, \"the\" appears two times."
   ]
  },
  {
   "cell_type": "markdown",
   "metadata": {},
   "source": [
    "## Second Example\n",
    "Just an example with more documents"
   ]
  },
  {
   "cell_type": "code",
   "execution_count": 9,
   "metadata": {},
   "outputs": [
    {
     "data": {
      "text/plain": [
       "{u'ball': 0,\n u'cat': 1,\n u'get': 2,\n u'is': 3,\n u'on': 4,\n u'plays': 5,\n u'please': 6,\n u'table': 7,\n u'television': 8,\n u'the': 9,\n u'with': 10}"
      ]
     },
     "execution_count": 9,
     "metadata": {},
     "output_type": "execute_result"
    }
   ],
   "source": [
    "text = [\"the cat is on the table\", \"the cat plays with the ball\",\"Please get on the television\"]\n",
    "vectorizer = CountVectorizer()\n",
    "vectorizer.fit(text)\n",
    "vectorizer.vocabulary_"
   ]
  },
  {
   "cell_type": "code",
   "execution_count": 10,
   "metadata": {},
   "outputs": [
    {
     "name": "stdout",
     "output_type": "stream",
     "text": [
      "[[0 1 0 1 1 0 0 1 0 2 0]\n [1 1 0 0 0 1 0 0 0 2 1]\n [0 0 1 0 1 0 1 0 1 1 0]]\n"
     ]
    }
   ],
   "source": [
    "vector = vectorizer.transform(text)\n",
    "print(vector.toarray())"
   ]
  },
  {
   "cell_type": "markdown",
   "metadata": {},
   "source": [
    "In this case every column represent a word and every row represent the number of times that appears such word in the document."
   ]
  },
  {
   "cell_type": "markdown",
   "metadata": {},
   "source": [
    "## Third Example\n",
    "Let me try some parameters of CountVectorizer"
   ]
  },
  {
   "cell_type": "code",
   "execution_count": 11,
   "metadata": {},
   "outputs": [
    {
     "data": {
      "text/plain": [
       "{u' ': 0,\n u'a': 1,\n u'b': 2,\n u'c': 3,\n u'e': 4,\n u'g': 5,\n u'h': 6,\n u'i': 7,\n u'l': 8,\n u'n': 9,\n u'o': 10,\n u'p': 11,\n u's': 12,\n u't': 13,\n u'v': 14,\n u'w': 15,\n u'y': 16}"
      ]
     },
     "execution_count": 11,
     "metadata": {},
     "output_type": "execute_result"
    }
   ],
   "source": [
    "text = [\"the cat is on the table\", \"the cat plays with the ball\",\"Please get on the television\"]\n",
    "vectorizer = CountVectorizer(analyzer=\"char\")\n",
    "vectorizer.fit(text)\n",
    "vectorizer.vocabulary_"
   ]
  },
  {
   "cell_type": "markdown",
   "metadata": {},
   "source": [
    "With the parameter <i>analyze</i> equals to <i>char</i> every character is taken, not words."
   ]
  },
  {
   "cell_type": "markdown",
   "metadata": {},
   "source": [
    "Suppose we want to consider only a set of particular word, for example every one that has more than three letters. \n",
    "We need to build a parser."
   ]
  },
  {
   "cell_type": "code",
   "execution_count": 16,
   "metadata": {},
   "outputs": [
    {
     "data": {
      "text/plain": [
       "{u'ball.': 0,\n u'plays': 1,\n u'please': 2,\n u'table.': 3,\n u'television.': 4,\n u'with': 5}"
      ]
     },
     "execution_count": 16,
     "metadata": {},
     "output_type": "execute_result"
    }
   ],
   "source": [
    "class Parse():\n",
    "    def __call__(self, text):\n",
    "        return [x for x in text.split(\" \") if len(x) > 3]\n",
    "\n",
    "text = [\"the cat is on the table.\", \"the cat plays with the ball.\",\"Please get on the television.\"]\n",
    "vectorizer = CountVectorizer(analyzer=\"word\", tokenizer=Parse())\n",
    "vectorizer.fit(text)\n",
    "vectorizer.vocabulary_"
   ]
  },
  {
   "cell_type": "markdown",
   "metadata": {},
   "source": [
    "</i>table</i> and <i>television</i> have the dot at the end. this could be a problem in documents that have that same word in the middle and at the end of the senteces."
   ]
  },
  {
   "cell_type": "code",
   "execution_count": 18,
   "metadata": {},
   "outputs": [
    {
     "data": {
      "text/plain": [
       "{u'brown': 0, u'table': 1, u'table.': 2}"
      ]
     },
     "execution_count": 18,
     "metadata": {},
     "output_type": "execute_result"
    }
   ],
   "source": [
    "text = [\"the cat is on the table.\", \"the table is brown\"]\n",
    "vectorizer = CountVectorizer(analyzer=\"word\", tokenizer=Parse())\n",
    "vectorizer.fit(text)\n",
    "vectorizer.vocabulary_"
   ]
  },
  {
   "cell_type": "markdown",
   "metadata": {},
   "source": [
    "We have the same word counted two times. \n",
    "In order to solve this problem..."
   ]
  },
  {
   "cell_type": "code",
   "execution_count": 19,
   "metadata": {},
   "outputs": [
    {
     "data": {
      "text/plain": [
       "{u'ball': 0,\n u'brown': 1,\n u'plays': 2,\n u'please': 3,\n u'table': 4,\n u'television': 5,\n u'with': 6}"
      ]
     },
     "execution_count": 19,
     "metadata": {},
     "output_type": "execute_result"
    }
   ],
   "source": [
    "import re\n",
    "class Parse():\n",
    "    def __call__(self, text):\n",
    "        return [re.sub(r'[^\\w\\s]','',x) for x in text.split(\" \") if len(x) > 3]\n",
    "\n",
    "text = [\"the cat is on the table.\", \"the cat plays with the ball.\",\"Please get on the television.\",\"the table is brown\"]\n",
    "vectorizer = CountVectorizer(analyzer=\"word\", tokenizer=Parse())\n",
    "vectorizer.fit(text)\n",
    "vectorizer.vocabulary_"
   ]
  },
  {
   "cell_type": "markdown",
   "metadata": {},
   "source": [
    "Last, <i>min_df</i>, <i>max_df</i> and <i>max_features</i> get all the word that appear more than, less than and the firsts respectively."
   ]
  },
  {
   "cell_type": "code",
   "execution_count": 36,
   "metadata": {},
   "outputs": [
    {
     "data": {
      "text/plain": [
       "array([[1, 1, 1, 1, 2],\n       [1, 0, 0, 0, 2],\n       [0, 0, 1, 0, 1],\n       [0, 1, 0, 1, 1]])"
      ]
     },
     "execution_count": 36,
     "metadata": {},
     "output_type": "execute_result"
    }
   ],
   "source": [
    "text = [\"the cat is on the table.\", \"the cat plays with the ball.\",\"Please get on the television.\",\"the table is brown\"]\n",
    "vectorizer = CountVectorizer(min_df=2)\n",
    "vectorizer.fit(text)\n",
    "vectorizer.vocabulary_\n",
    "vector = vectorizer.transform(text)\n",
    "vector.toarray()"
   ]
  },
  {
   "cell_type": "markdown",
   "metadata": {},
   "source": [
    "if we sum the columns, is always grater than 2"
   ]
  },
  {
   "cell_type": "code",
   "execution_count": 37,
   "metadata": {},
   "outputs": [
    {
     "data": {
      "text/plain": [
       "array([[0, 0, 1, 0, 1, 1, 0, 0, 1, 0, 0],\n       [1, 0, 1, 0, 0, 0, 1, 0, 0, 0, 1],\n       [0, 0, 0, 1, 0, 1, 0, 1, 0, 1, 0],\n       [0, 1, 0, 0, 1, 0, 0, 0, 1, 0, 0]])"
      ]
     },
     "execution_count": 37,
     "metadata": {},
     "output_type": "execute_result"
    }
   ],
   "source": [
    "text = [\"the cat is on the table.\", \"the cat plays with the ball.\",\"Please get on the television.\",\"the table is brown\"]\n",
    "vectorizer = CountVectorizer(max_df=2)\n",
    "vectorizer.fit(text)\n",
    "vectorizer.vocabulary_\n",
    "vector = vectorizer.transform(text)\n",
    "vector.toarray()"
   ]
  },
  {
   "cell_type": "markdown",
   "metadata": {},
   "source": [
    "if we sum the columns, is always less than 2"
   ]
  },
  {
   "cell_type": "code",
   "execution_count": 38,
   "metadata": {},
   "outputs": [
    {
     "data": {
      "text/plain": [
       "array([[1, 1, 2],\n       [1, 0, 2],\n       [0, 0, 1],\n       [0, 1, 1]])"
      ]
     },
     "execution_count": 38,
     "metadata": {},
     "output_type": "execute_result"
    }
   ],
   "source": [
    "text = [\"the cat is on the table.\", \"the cat plays with the ball.\",\"Please get on the television.\",\"the table is brown\"]\n",
    "vectorizer = CountVectorizer(max_features=3)\n",
    "vectorizer.fit(text)\n",
    "vectorizer.vocabulary_\n",
    "vector = vectorizer.transform(text)\n",
    "vector.toarray()"
   ]
  },
  {
   "cell_type": "markdown",
   "metadata": {},
   "source": [
    "Return the array with the three words with the greatest sum"
   ]
  },
  {
   "cell_type": "code",
   "execution_count": null,
   "metadata": {},
   "outputs": [],
   "source": []
  }
 ],
 "metadata": {
  "kernelspec": {
   "display_name": "Python 2",
   "language": "python",
   "name": "python2"
  },
  "language_info": {
   "codemirror_mode": {
    "name": "ipython",
    "version": 2
   },
   "file_extension": ".py",
   "mimetype": "text/x-python",
   "name": "python",
   "nbconvert_exporter": "python",
   "pygments_lexer": "ipython2",
   "version": "2.7.6"
  }
 },
 "nbformat": 4,
 "nbformat_minor": 0
}
